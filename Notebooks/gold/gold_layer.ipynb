{
 "cells": [
  {
   "cell_type": "markdown",
   "metadata": {
    "application/vnd.databricks.v1+cell": {
     "cellMetadata": {},
     "inputWidgets": {},
     "nuid": "870bde16-769c-4815-8621-a202701b3106",
     "showTitle": false,
     "tableResultSettingsMap": {},
     "title": ""
    }
   },
   "source": [
    "### GOLD TRANSFORMATION PIPELINE  \n",
    "**SILVER → GOLD LAYER (DELTA TABLES)**\n",
    "\n",
    "---\n",
    "\n",
    "#### Purpose\n",
    "This script creates views for the Gold layer in the data warehouse.  \n",
    "The Gold layer represents the final dimension and fact tables (Star Schema)  \n",
    "  \n",
    "Each view performs transformations and combines data from the Silver layer to produce a clean, enriched, and business-ready dataset.\n",
    "\n",
    "---\n",
    "\n",
    "#### Actions Performed\n",
    "- Joins Silver-layer conformed tables to build **dimensions** and **fact** tables\n",
    "- Applies **surrogate keys** using row numbering\n",
    "- Filters and cleans data (e.g., removes historical records)\n",
    "- Writes final **analytics-ready Delta tables**\n",
    "- Records **audit logs** for load tracking (table name, record counts, status, path)\n",
    "\n",
    "---\n",
    "\n",
    "#### Characteristics of GOLD Layer\n",
    "- Materialized **fact** and **dimension** tables (Star Schema style)\n",
    "- Denormalized, flattened, **business-friendly** structure\n",
    "- **Optimized for BI** tools and reporting workloads\n",
    "- Batch-updated for **consistent snapshots**\n",
    "- Supports **low-latency queries** for dashboards\n",
    "\n",
    "---\n",
    "\n",
    "#### Audit / Lineage\n",
    "- **Load metadata** is logged as a Delta table (`_gold_audit_logs`)\n",
    "- Includes table name, target path, load timestamp, record counts, status, and errors (if any)\n",
    "- Enables end-to-end traceability across Bronze → Silver → Gold\n",
    "\n",
    "---\n",
    "\n",
    "#### Parameters\n",
    "- Paths to **Silver-layer Delta tables** (input)\n",
    "- Target **GOLD Delta location**\n",
    "\n",
    "---\n",
    "\n",
    "#### Example Usage\n",
    "- Databricks interactive notebook\n"
   ]
  },
  {
   "cell_type": "code",
   "execution_count": 0,
   "metadata": {
    "application/vnd.databricks.v1+cell": {
     "cellMetadata": {
      "byteLimit": 2048000,
      "rowLimit": 10000
     },
     "inputWidgets": {},
     "nuid": "9bef11cc-20ce-44c8-9d40-d55f84d72222",
     "showTitle": false,
     "tableResultSettingsMap": {},
     "title": ""
    }
   },
   "outputs": [],
   "source": [
    "from datetime import datetime\n",
    "from pyspark.sql.types import StructType, StructField, StringType, IntegerType, DateType, TimestampType\n",
    "from pyspark.sql.functions import to_date, to_timestamp\n",
    "from pyspark.sql import functions as f\n",
    "from pyspark.sql.window import Window"
   ]
  },
  {
   "cell_type": "code",
   "execution_count": 0,
   "metadata": {
    "application/vnd.databricks.v1+cell": {
     "cellMetadata": {
      "byteLimit": 2048000,
      "rowLimit": 10000
     },
     "inputWidgets": {},
     "nuid": "7aea07b3-fff9-461f-b42f-56ffa506bdec",
     "showTitle": false,
     "tableResultSettingsMap": {},
     "title": ""
    }
   },
   "outputs": [],
   "source": [
    "# Path\n",
    "silver_path = 'gs://my-bucket-deep/Medallion/silver/'\n",
    "gold_path = 'gs://my-bucket-deep/Medallion/gold/'"
   ]
  },
  {
   "cell_type": "code",
   "execution_count": 0,
   "metadata": {
    "application/vnd.databricks.v1+cell": {
     "cellMetadata": {
      "byteLimit": 2048000,
      "rowLimit": 10000
     },
     "inputWidgets": {},
     "nuid": "8cf007b6-ab41-44ff-ab73-49244acdae8d",
     "showTitle": false,
     "tableResultSettingsMap": {},
     "title": ""
    }
   },
   "outputs": [],
   "source": [
    "silver_tables = [\n",
    "    \"crm_cust_info\",\n",
    "    \"crm_prd_info\",\n",
    "    \"crm_sales_details\",\n",
    "    \"erp_cust_az12\",\n",
    "    \"erp_loc_a101\",\n",
    "    \"erp_px_cat_g1v2\"\n",
    "]\n",
    "\n",
    "silver_dfs = {\n",
    "    table: spark.read.format('delta').load(f'{silver_path}{table}')\n",
    "    for table in silver_tables\n",
    "}"
   ]
  },
  {
   "cell_type": "code",
   "execution_count": 0,
   "metadata": {
    "application/vnd.databricks.v1+cell": {
     "cellMetadata": {
      "byteLimit": 2048000,
      "rowLimit": 10000
     },
     "inputWidgets": {},
     "nuid": "14b15a50-036b-4f8a-836c-6b40dafb1f36",
     "showTitle": false,
     "tableResultSettingsMap": {},
     "title": ""
    }
   },
   "outputs": [
    {
     "output_type": "execute_result",
     "data": {
      "text/plain": [
       "{'crm_cust_info': DataFrame[cst_id: int, cst_key: string, cst_firstname: string, cst_lastname: string, cst_marital_status: string, cst_gndr: string, cst_create_date: date],\n",
       " 'crm_prd_info': DataFrame[prd_id: int, cat_id: string, prd_key: string, prd_nm: string, prd_cost: int, prd_line: string, prd_start_dt: date, prd_end_dt: date],\n",
       " 'crm_sales_details': DataFrame[sls_ord_num: string, sls_prd_key: string, sls_cust_id: int, sls_order_dt: date, sls_ship_dt: date, sls_due_dt: date, sls_sales: int, sls_quantity: int, sls_price: double],\n",
       " 'erp_cust_az12': DataFrame[cid: string, bdate: date, gen: string],\n",
       " 'erp_loc_a101': DataFrame[cid: string, cntry: string],\n",
       " 'erp_px_cat_g1v2': DataFrame[id: string, cat: string, subcat: string, maintenance: string]}"
      ]
     },
     "execution_count": 12,
     "metadata": {},
     "output_type": "execute_result"
    }
   ],
   "source": [
    "silver_dfs"
   ]
  },
  {
   "cell_type": "code",
   "execution_count": 0,
   "metadata": {
    "application/vnd.databricks.v1+cell": {
     "cellMetadata": {
      "byteLimit": 2048000,
      "rowLimit": 10000
     },
     "inputWidgets": {},
     "nuid": "3c6d51e1-0d22-4a60-b181-83812f10fa95",
     "showTitle": false,
     "tableResultSettingsMap": {},
     "title": ""
    }
   },
   "outputs": [],
   "source": [
    "# Gold Source\n",
    "gold_sources = []"
   ]
  },
  {
   "cell_type": "code",
   "execution_count": 0,
   "metadata": {
    "application/vnd.databricks.v1+cell": {
     "cellMetadata": {
      "byteLimit": 2048000,
      "rowLimit": 10000
     },
     "inputWidgets": {},
     "nuid": "fc1db1b7-e5fa-44ac-a188-b13d7e222a27",
     "showTitle": false,
     "tableResultSettingsMap": {},
     "title": ""
    }
   },
   "outputs": [],
   "source": [
    "# Utility logger\n",
    "def log(msg):\n",
    "    print(f'[{datetime.now().isoformat()}] {msg}')"
   ]
  },
  {
   "cell_type": "markdown",
   "metadata": {
    "application/vnd.databricks.v1+cell": {
     "cellMetadata": {},
     "inputWidgets": {},
     "nuid": "48e4d2ae-4e0e-4405-a2d7-2a8d614ddf0d",
     "showTitle": false,
     "tableResultSettingsMap": {},
     "title": ""
    }
   },
   "source": [
    "#### Create Dimension: `gold.dim_customers`"
   ]
  },
  {
   "cell_type": "code",
   "execution_count": 0,
   "metadata": {
    "application/vnd.databricks.v1+cell": {
     "cellMetadata": {
      "byteLimit": 2048000,
      "rowLimit": 10000
     },
     "inputWidgets": {},
     "nuid": "620c9fb6-45c7-4428-bc47-38b4f811baea",
     "showTitle": false,
     "tableResultSettingsMap": {},
     "title": ""
    }
   },
   "outputs": [],
   "source": [
    "def build_dim_customer():\n",
    "  log('Building dim_customer')\n",
    "\n",
    "  df = silver_dfs['crm_cust_info'].alias('ci') \\\n",
    "      .join(silver_dfs['erp_cust_az12'].alias('ca'), f.col('ci.cst_key') == f.col('ca.cid'), 'left') \\\n",
    "      .join(silver_dfs['erp_loc_a101'].alias('cl'), f.col('ci.cst_key') == f.col('cl.cid'), 'left') \\\n",
    "      .select(\n",
    "            f.col('ci.cst_id').alias('customer_id'),\n",
    "            f.col('ci.cst_key').alias('customer_number'),\n",
    "            f.col('ci.cst_firstname').alias('first_name'),\n",
    "            f.col('ci.cst_lastname').alias('last_name'),\n",
    "            f.col('ci.cst_marital_status').alias('marital_status'),\n",
    "            f.col('cl.cntry').alias('country'),\n",
    "            f.when(f.col('ci.cst_gndr') != 'n/a', f.col('ci.cst_gndr'))\n",
    "             .otherwise(f.coalesce(f.col('ca.gen'), f.lit('n/a'))).alias('gender'),\n",
    "            f.col('ca.bdate').alias('birthdate'),\n",
    "            f.col('ci.cst_create_date').alias('create_date')\n",
    "      )\n",
    "\n",
    "  window_customer = Window.orderBy('customer_id')\n",
    "  df = df.withColumn('customer_key', f.row_number().over(window_customer))    # Surrogate key\n",
    "\n",
    "  # Reorder columns\n",
    "  df = df.select(\n",
    "      'customer_key',      # surrogate key first\n",
    "      'customer_id',\n",
    "      'customer_number',\n",
    "      'first_name',\n",
    "      'last_name',\n",
    "      'marital_status',\n",
    "      'country',\n",
    "      'gender',\n",
    "      'birthdate',\n",
    "      'create_date'\n",
    "  )\n",
    "\n",
    "  gold_sources.append({\n",
    "        \"name\": \"dim_customer\",\n",
    "        \"path\": f\"{gold_path}dim_customer\",\n",
    "        \"df\": df\n",
    "  })\n"
   ]
  },
  {
   "cell_type": "markdown",
   "metadata": {
    "application/vnd.databricks.v1+cell": {
     "cellMetadata": {},
     "inputWidgets": {},
     "nuid": "fcabaf52-dd15-4d0d-92c1-62e7c0ce78e5",
     "showTitle": false,
     "tableResultSettingsMap": {},
     "title": ""
    }
   },
   "source": [
    "#### Create Dimension: `gold.dim_products` "
   ]
  },
  {
   "cell_type": "code",
   "execution_count": 0,
   "metadata": {
    "application/vnd.databricks.v1+cell": {
     "cellMetadata": {
      "byteLimit": 2048000,
      "rowLimit": 10000
     },
     "inputWidgets": {},
     "nuid": "1c9864dc-4e6c-4d0c-a2c8-e207a7c49bfe",
     "showTitle": false,
     "tableResultSettingsMap": {},
     "title": ""
    }
   },
   "outputs": [],
   "source": [
    "def build_dim_product():\n",
    "    log(\"Building dim_product\")\n",
    "    \n",
    "    prd_info_active = silver_dfs['crm_prd_info'].filter(f.col('prd_end_dt').isNull())\n",
    "    \n",
    "    df = prd_info_active.alias('pi') \\\n",
    "        .join(silver_dfs['erp_px_cat_g1v2'].alias('pc'), f.col('pi.cat_id') == f.col('pc.id'), 'left') \\\n",
    "        .select(\n",
    "            f.col('pi.prd_id').alias('product_id'),\n",
    "            f.col('pi.prd_key').alias('product_number'),\n",
    "            f.col('pi.prd_nm').alias('product_name'),\n",
    "            f.col('pi.cat_id').alias('category_id'),\n",
    "            f.col('pc.cat').alias('category'),\n",
    "            f.col('pc.subcat').alias('sub_category'),\n",
    "            f.col('pc.maintenance'),\n",
    "            f.col('pi.prd_cost').alias('product_cost'),\n",
    "            f.col('pi.prd_line').alias('product_line'),\n",
    "            f.col('pi.prd_start_dt').alias('product_start_date')\n",
    "        )\n",
    "    \n",
    "    window_product = Window.orderBy('product_start_date', 'product_number')\n",
    "    df = df.withColumn('product_key', f.row_number().over(window_product))  # Surrogate key\n",
    "\n",
    "    df = df.select(\n",
    "        'product_key',  # surrogate key first\n",
    "        'product_id',\n",
    "        'product_number',\n",
    "        'product_name',\n",
    "        'category_id',\n",
    "        'category',\n",
    "        'sub_category',\n",
    "        'maintenance',\n",
    "        'product_cost',\n",
    "        'product_line',\n",
    "        'product_start_date'\n",
    "    )\n",
    "    \n",
    "    gold_sources.append({\n",
    "        \"name\": \"dim_product\",\n",
    "        \"path\": f\"{gold_path}dim_product\",\n",
    "        \"df\": df\n",
    "    })\n"
   ]
  },
  {
   "cell_type": "markdown",
   "metadata": {
    "application/vnd.databricks.v1+cell": {
     "cellMetadata": {},
     "inputWidgets": {},
     "nuid": "15a5f526-9f2c-4ca6-a15c-c5608527840e",
     "showTitle": false,
     "tableResultSettingsMap": {},
     "title": ""
    }
   },
   "source": [
    "#### Create Fact: `gold.fact_sales`"
   ]
  },
  {
   "cell_type": "code",
   "execution_count": 0,
   "metadata": {
    "application/vnd.databricks.v1+cell": {
     "cellMetadata": {
      "byteLimit": 2048000,
      "rowLimit": 10000
     },
     "inputWidgets": {},
     "nuid": "a16f6b39-4bc7-45d7-a517-d74dd432dd79",
     "showTitle": false,
     "tableResultSettingsMap": {},
     "title": ""
    }
   },
   "outputs": [],
   "source": [
    "def build_fact_sales():\n",
    "    log(\"Reading freshly written dimensions\")\n",
    "    \n",
    "    dim_customer = spark.read.format('delta').load(f\"{gold_path}dim_customer\")\n",
    "    dim_product = spark.read.format('delta').load(f\"{gold_path}dim_product\")\n",
    "    \n",
    "    log(\"Building fact_sales\")\n",
    "    \n",
    "    df = silver_dfs['crm_sales_details'].alias('sd') \\\n",
    "        .join(dim_customer.alias('dc'), f.col('sd.sls_cust_id') == f.col('dc.customer_id'), 'left') \\\n",
    "        .join(dim_product.alias('dp'), f.col('sd.sls_prd_key') == f.col('dp.product_number'), 'left') \\\n",
    "        .select(\n",
    "            f.col('sd.sls_ord_num').alias('order_number'),\n",
    "            f.col('dc.customer_key'),\n",
    "            f.col('dp.product_key'),\n",
    "            f.col('sd.sls_sales').alias('sales_amount'),\n",
    "            f.col('sd.sls_quantity').alias('quantity'),\n",
    "            f.col('sd.sls_price').alias('price'),\n",
    "            f.col('sd.sls_order_dt').alias('order_date'),\n",
    "            f.col('sd.sls_ship_dt').alias('shipping_date'),\n",
    "            f.col('sd.sls_due_dt').alias('due_date')\n",
    "        )\n",
    "    \n",
    "    gold_sources.append({\n",
    "        \"name\": \"fact_sales\",\n",
    "        \"path\": f\"{gold_path}/fact_sales\",\n",
    "        \"df\": df\n",
    "    })"
   ]
  },
  {
   "cell_type": "markdown",
   "metadata": {
    "application/vnd.databricks.v1+cell": {
     "cellMetadata": {},
     "inputWidgets": {},
     "nuid": "931c6286-06b5-45f3-8c59-fabee45f5d32",
     "showTitle": false,
     "tableResultSettingsMap": {},
     "title": ""
    }
   },
   "source": [
    "##### Add All Transformations"
   ]
  },
  {
   "cell_type": "code",
   "execution_count": 0,
   "metadata": {
    "application/vnd.databricks.v1+cell": {
     "cellMetadata": {
      "byteLimit": 2048000,
      "rowLimit": 10000
     },
     "inputWidgets": {},
     "nuid": "79aa9871-952e-4cd6-a0d8-2598d1f56803",
     "showTitle": false,
     "tableResultSettingsMap": {},
     "title": ""
    }
   },
   "outputs": [
    {
     "output_type": "stream",
     "name": "stdout",
     "output_type": "stream",
     "text": [
      "[2025-07-05T15:17:07.520859] Building dim_customer\n[2025-07-05T15:17:08.304375] Building dim_product\n[2025-07-05T15:17:08.579866] Writing dimension dim_customer\n[2025-07-05T15:17:38.929810] Writing dimension dim_product\n"
     ]
    }
   ],
   "source": [
    "# Step 1: Build Dimensions\n",
    "build_dim_customer()\n",
    "build_dim_product()\n",
    "\n",
    "# Step 2: Write Dimensions immediately (so they can be joined by fact)\n",
    "for source in gold_sources:\n",
    "    log(f\"Writing dimension {source['name']}\")\n",
    "    source['df'].write.format('delta').mode('overwrite').option('overwriteSchema', 'true').save(source['path'])\n"
   ]
  },
  {
   "cell_type": "code",
   "execution_count": 0,
   "metadata": {
    "application/vnd.databricks.v1+cell": {
     "cellMetadata": {
      "byteLimit": 2048000,
      "rowLimit": 10000
     },
     "inputWidgets": {},
     "nuid": "e3d195b2-b526-404a-b001-874000abb5a7",
     "showTitle": false,
     "tableResultSettingsMap": {},
     "title": ""
    }
   },
   "outputs": [],
   "source": [
    "gold_sources.clear()"
   ]
  },
  {
   "cell_type": "code",
   "execution_count": 0,
   "metadata": {
    "application/vnd.databricks.v1+cell": {
     "cellMetadata": {
      "byteLimit": 2048000,
      "rowLimit": 10000
     },
     "inputWidgets": {},
     "nuid": "e0e7163b-6134-4f7f-a8ca-c9f1c25211af",
     "showTitle": false,
     "tableResultSettingsMap": {},
     "title": ""
    }
   },
   "outputs": [
    {
     "output_type": "stream",
     "name": "stdout",
     "output_type": "stream",
     "text": [
      "[2025-07-05T15:18:38.869203] Reading freshly written dimensions\n[2025-07-05T15:18:40.478793] Building fact_sales\n"
     ]
    }
   ],
   "source": [
    "# Build Fact\n",
    "build_fact_sales()"
   ]
  },
  {
   "cell_type": "code",
   "execution_count": 0,
   "metadata": {
    "application/vnd.databricks.v1+cell": {
     "cellMetadata": {
      "byteLimit": 2048000,
      "rowLimit": 10000
     },
     "inputWidgets": {},
     "nuid": "8066c2da-083b-4cd5-b769-75cd3b40cc92",
     "showTitle": false,
     "tableResultSettingsMap": {},
     "title": ""
    }
   },
   "outputs": [],
   "source": [
    "def load_to_gold_table(source):\n",
    "    try:\n",
    "        log(f\"START: Writing {source['name']} to {source['path']}\")\n",
    "        source['df'].write.format('delta').mode('overwrite').option('overwriteSchema', 'true').save(source['path'])\n",
    "\n",
    "        # Basic check\n",
    "        count = source['df'].count()\n",
    "        log(f\"SUCCESS: Written {source['name']} with {count} records\")\n",
    "        \n",
    "        return {\n",
    "            \"table_name\": source['name'],\n",
    "            \"status\": \"SUCCESS\",\n",
    "            \"records\": count,\n",
    "            \"error\": \"\",\n",
    "            \"loaded_at\": datetime.now().isoformat(),\n",
    "            \"target_path\": source['path']\n",
    "        }\n",
    "    except Exception as e:\n",
    "        log(f\"ERROR writing {source['name']}: {str(e)}\")\n",
    "        return {\n",
    "            \"table_name\": source['name'],\n",
    "            \"status\": \"FAILED\",\n",
    "            \"records\": 0,\n",
    "            \"error\": str(e),\n",
    "            \"loaded_at\": datetime.now().isoformat(),\n",
    "            \"target_path\": source['path']\n",
    "        }\n"
   ]
  },
  {
   "cell_type": "code",
   "execution_count": 0,
   "metadata": {
    "application/vnd.databricks.v1+cell": {
     "cellMetadata": {
      "byteLimit": 2048000,
      "rowLimit": 10000
     },
     "inputWidgets": {},
     "nuid": "c4c2d55c-e8e1-4465-8df7-74dc322cf3e6",
     "showTitle": false,
     "tableResultSettingsMap": {},
     "title": ""
    }
   },
   "outputs": [],
   "source": [
    "# Define Audit Schema\n",
    "audit_schema = StructType([\n",
    "    StructField(\"table_name\", StringType(), True),\n",
    "    StructField(\"status\", StringType(), True),\n",
    "    StructField(\"records\", IntegerType(), True),\n",
    "    StructField(\"error\", StringType(), True),\n",
    "    StructField(\"loaded_at\", StringType(), True),\n",
    "    StructField(\"target_path\", StringType(), True)\n",
    "])"
   ]
  },
  {
   "cell_type": "code",
   "execution_count": 0,
   "metadata": {
    "application/vnd.databricks.v1+cell": {
     "cellMetadata": {
      "byteLimit": 2048000,
      "rowLimit": 10000
     },
     "inputWidgets": {},
     "nuid": "2e361535-1167-4f51-8c0b-a2c224252103",
     "showTitle": false,
     "tableResultSettingsMap": {},
     "title": ""
    }
   },
   "outputs": [
    {
     "output_type": "stream",
     "name": "stdout",
     "output_type": "stream",
     "text": [
      "[2025-07-05T15:22:51.196683] START: Writing fact_sales to gs://my-bucket-deep/Medallion/gold//fact_sales\n[2025-07-05T15:23:05.253155] SUCCESS: Written fact_sales with 60398 records\n[2025-07-05T15:23:11.942043] SUCCESS: Gold layer audit logs written to gs://my-bucket-deep/Medallion/gold/_gold_audit_logs\n"
     ]
    }
   ],
   "source": [
    "# Process all sources and collect audit records\n",
    "audit_records = []\n",
    "for source in gold_sources:\n",
    "    result = load_to_gold_table(source)\n",
    "    audit_records.append(result)\n",
    "\n",
    "\n",
    "audit_df = spark.createDataFrame(audit_records, schema=audit_schema)\n",
    "\n",
    "# Write audit logs\n",
    "audit_log_path = f\"{gold_path}_gold_audit_logs\"\n",
    "audit_df.write.format('delta').mode('append').save(audit_log_path)\n",
    "\n",
    "log(f\"SUCCESS: Gold layer audit logs written to {audit_log_path}\")"
   ]
  },
  {
   "cell_type": "code",
   "execution_count": 0,
   "metadata": {
    "application/vnd.databricks.v1+cell": {
     "cellMetadata": {
      "byteLimit": 2048000,
      "rowLimit": 10000
     },
     "inputWidgets": {},
     "nuid": "cd197b4b-5eaa-44e3-bbfe-cb0e2e3f6a0f",
     "showTitle": false,
     "tableResultSettingsMap": {},
     "title": ""
    }
   },
   "outputs": [
    {
     "output_type": "display_data",
     "data": {
      "text/html": [
       "<style scoped>\n",
       "  .table-result-container {\n",
       "    max-height: 300px;\n",
       "    overflow: auto;\n",
       "  }\n",
       "  table, th, td {\n",
       "    border: 1px solid black;\n",
       "    border-collapse: collapse;\n",
       "  }\n",
       "  th, td {\n",
       "    padding: 5px;\n",
       "  }\n",
       "  th {\n",
       "    text-align: left;\n",
       "  }\n",
       "</style><div class='table-result-container'><table class='table-result'><thead style='background-color: white'><tr><th>table_name</th><th>status</th><th>records</th><th>error</th><th>loaded_at</th><th>target_path</th></tr></thead><tbody><tr><td>fact_sales</td><td>SUCCESS</td><td>60398</td><td></td><td>2025-07-05T15:23:05.253298</td><td>gs://my-bucket-deep/Medallion/gold//fact_sales</td></tr></tbody></table></div>"
      ]
     },
     "metadata": {
      "application/vnd.databricks.v1+output": {
       "addedWidgets": {},
       "aggData": [],
       "aggError": "",
       "aggOverflow": false,
       "aggSchema": [],
       "aggSeriesLimitReached": false,
       "aggType": "",
       "arguments": {},
       "columnCustomDisplayInfos": {},
       "data": [
        [
         "fact_sales",
         "SUCCESS",
         60398,
         "",
         "2025-07-05T15:23:05.253298",
         "gs://my-bucket-deep/Medallion/gold//fact_sales"
        ]
       ],
       "datasetInfos": [],
       "dbfsResultPath": null,
       "isJsonSchema": true,
       "metadata": {},
       "overflow": false,
       "plotOptions": {
        "customPlotOptions": {},
        "displayType": "table",
        "pivotAggregation": null,
        "pivotColumns": null,
        "xColumns": null,
        "yColumns": null
       },
       "removedWidgets": [],
       "schema": [
        {
         "metadata": "{}",
         "name": "table_name",
         "type": "\"string\""
        },
        {
         "metadata": "{}",
         "name": "status",
         "type": "\"string\""
        },
        {
         "metadata": "{}",
         "name": "records",
         "type": "\"integer\""
        },
        {
         "metadata": "{}",
         "name": "error",
         "type": "\"string\""
        },
        {
         "metadata": "{}",
         "name": "loaded_at",
         "type": "\"string\""
        },
        {
         "metadata": "{}",
         "name": "target_path",
         "type": "\"string\""
        }
       ],
       "type": "table"
      }
     },
     "output_type": "display_data"
    }
   ],
   "source": [
    "audit_df.display()"
   ]
  }
 ],
 "metadata": {
  "application/vnd.databricks.v1+notebook": {
   "computePreferences": null,
   "dashboards": [],
   "environmentMetadata": {
    "base_environment": "",
    "environment_version": "2"
   },
   "inputWidgetPreferences": null,
   "language": "python",
   "notebookMetadata": {
    "pythonIndentUnit": 4
   },
   "notebookName": "gold_layer",
   "widgets": {}
  },
  "language_info": {
   "name": "python"
  }
 },
 "nbformat": 4,
 "nbformat_minor": 0
}