{
 "cells": [
  {
   "cell_type": "markdown",
   "metadata": {
    "application/vnd.databricks.v1+cell": {
     "cellMetadata": {
      "byteLimit": 2048000,
      "rowLimit": 10000
     },
     "inputWidgets": {},
     "nuid": "80bc1940-9001-409c-859a-e7cd4312e14c",
     "showTitle": false,
     "tableResultSettingsMap": {},
     "title": ""
    }
   },
   "source": [
    "# LOAD SILVER LAYER (BRONZE → SILVER)\n",
    "\n",
    "---\n",
    "\n",
    "## Purpose\n",
    "This notebook (or procedure) performs the **ETL (Extract, Transform, Load)** process to populate the **silver** schema tables from the **bronze** schema.\n",
    "\n",
    "---\n",
    "\n",
    "## Actions Performed\n",
    "- Set datestyle (if needed in SQL environments)\n",
    "- Truncate (overwrite) the target silver tables before loading\n",
    "- Insert **transformed and cleaned** data from bronze into silver tables\n",
    "\n",
    "---\n",
    "\n",
    "## Parameters\n",
    "- Paths to **Bronze-layer Delta tables** (input)\n",
    "- Target **Silver Delta location**\n",
    "\n",
    "---\n",
    "\n",
    "## Usage Example\n",
    "- Databricks interactive notebook."
   ]
  },
  {
   "cell_type": "code",
   "execution_count": 0,
   "metadata": {
    "application/vnd.databricks.v1+cell": {
     "cellMetadata": {
      "byteLimit": 2048000,
      "rowLimit": 10000
     },
     "inputWidgets": {},
     "nuid": "bb8df649-8084-4ef1-8b43-349a95191aa9",
     "showTitle": false,
     "tableResultSettingsMap": {},
     "title": ""
    }
   },
   "outputs": [],
   "source": [
    "from datetime import datetime\n",
    "from pyspark.sql.types import StructType, StructField, StringType, IntegerType, DateType, TimestampType\n",
    "from pyspark.sql.functions import to_date, to_timestamp"
   ]
  },
  {
   "cell_type": "code",
   "execution_count": 0,
   "metadata": {
    "application/vnd.databricks.v1+cell": {
     "cellMetadata": {
      "byteLimit": 2048000,
      "rowLimit": 10000
     },
     "inputWidgets": {},
     "nuid": "f6fbe0ae-7869-4c23-aadd-3f4d7917f28d",
     "showTitle": false,
     "tableResultSettingsMap": {},
     "title": ""
    }
   },
   "outputs": [],
   "source": [
    "# path\n",
    "bronze_path = 'gs://my-bucket-deep/Medallion/bronze/'\n",
    "silver_path = 'gs://my-bucket-deep/Medallion/silver/'"
   ]
  },
  {
   "cell_type": "code",
   "execution_count": 0,
   "metadata": {
    "application/vnd.databricks.v1+cell": {
     "cellMetadata": {
      "byteLimit": 2048000,
      "rowLimit": 10000
     },
     "inputWidgets": {},
     "nuid": "efbbfd0f-488c-4984-8347-bc47df0e02ce",
     "showTitle": false,
     "tableResultSettingsMap": {},
     "title": ""
    }
   },
   "outputs": [],
   "source": [
    "bronze_tables = [\n",
    "    \"crm_cust_info\",\n",
    "    \"crm_prd_info\",\n",
    "    \"crm_sales_details\",\n",
    "    \"erp_cust_az12\",\n",
    "    \"erp_loc_a101\",\n",
    "    \"erp_px_cat_g1v2\"\n",
    "]\n",
    "\n",
    "bronze_dfs = {\n",
    "    table: spark.read.format('delta').load(f'{bronze_path}{table}')\n",
    "    for table in bronze_tables\n",
    "}"
   ]
  },
  {
   "cell_type": "code",
   "execution_count": 0,
   "metadata": {
    "application/vnd.databricks.v1+cell": {
     "cellMetadata": {
      "byteLimit": 2048000,
      "rowLimit": 10000
     },
     "inputWidgets": {},
     "nuid": "5724315a-c713-4daa-aa7c-899473c6d602",
     "showTitle": false,
     "tableResultSettingsMap": {},
     "title": ""
    }
   },
   "outputs": [
    {
     "output_type": "execute_result",
     "data": {
      "text/plain": [
       "{'crm_cust_info': DataFrame[cst_id: int, cst_key: string, cst_firstname: string, cst_lastname: string, cst_marital_status: string, cst_gndr: string, cst_create_date: date],\n",
       " 'crm_prd_info': DataFrame[prd_id: int, prd_key: string, prd_nm: string, prd_cost: int, prd_line: string, prd_start_dt: timestamp, prd_end_dt: timestamp],\n",
       " 'crm_sales_details': DataFrame[sls_ord_num: string, sls_prd_key: string, sls_cust_id: int, sls_order_dt: int, sls_ship_dt: int, sls_due_dt: int, sls_sales: int, sls_quantity: int, sls_price: int],\n",
       " 'erp_cust_az12': DataFrame[cid: string, bdate: date, gen: string],\n",
       " 'erp_loc_a101': DataFrame[cid: string, cntry: string],\n",
       " 'erp_px_cat_g1v2': DataFrame[id: string, cat: string, subcat: string, maintenance: string]}"
      ]
     },
     "execution_count": 102,
     "metadata": {},
     "output_type": "execute_result"
    }
   ],
   "source": [
    "bronze_dfs"
   ]
  },
  {
   "cell_type": "code",
   "execution_count": 0,
   "metadata": {
    "application/vnd.databricks.v1+cell": {
     "cellMetadata": {
      "byteLimit": 2048000,
      "rowLimit": 10000
     },
     "inputWidgets": {},
     "nuid": "1b42f9dd-a39b-450e-bd5d-b2d16052dc0f",
     "showTitle": false,
     "tableResultSettingsMap": {},
     "title": ""
    }
   },
   "outputs": [],
   "source": [
    "# Silver Source\n",
    "silver_sources = []"
   ]
  },
  {
   "cell_type": "code",
   "execution_count": 0,
   "metadata": {
    "application/vnd.databricks.v1+cell": {
     "cellMetadata": {
      "byteLimit": 2048000,
      "rowLimit": 10000
     },
     "inputWidgets": {},
     "nuid": "528aefab-f673-486a-9f68-507ed5777ea3",
     "showTitle": false,
     "tableResultSettingsMap": {},
     "title": ""
    }
   },
   "outputs": [],
   "source": [
    "# Utility logger\n",
    "def log(msg):\n",
    "    print(f\"[{datetime.now().isoformat()}] {msg}\")"
   ]
  },
  {
   "cell_type": "markdown",
   "metadata": {
    "application/vnd.databricks.v1+cell": {
     "cellMetadata": {
      "byteLimit": 2048000,
      "rowLimit": 10000
     },
     "inputWidgets": {},
     "nuid": "a4dc3bc9-b13c-4996-88a8-b026c4bb3a0b",
     "showTitle": false,
     "tableResultSettingsMap": {},
     "title": ""
    }
   },
   "source": [
    "Transformation `crm_cust_info`"
   ]
  },
  {
   "cell_type": "code",
   "execution_count": 0,
   "metadata": {
    "application/vnd.databricks.v1+cell": {
     "cellMetadata": {
      "byteLimit": 2048000,
      "rowLimit": 10000
     },
     "inputWidgets": {},
     "nuid": "6dfbf06d-ca84-4a6f-836c-cf8643c8c2ee",
     "showTitle": false,
     "tableResultSettingsMap": {},
     "title": ""
    }
   },
   "outputs": [],
   "source": [
    "from pyspark.sql import functions as f\n",
    "from pyspark.sql.window import Window"
   ]
  },
  {
   "cell_type": "code",
   "execution_count": 0,
   "metadata": {
    "application/vnd.databricks.v1+cell": {
     "cellMetadata": {
      "byteLimit": 2048000,
      "rowLimit": 10000
     },
     "inputWidgets": {},
     "nuid": "121b7148-ed4f-48b0-8943-09cdb000c6e8",
     "showTitle": false,
     "tableResultSettingsMap": {},
     "title": ""
    }
   },
   "outputs": [],
   "source": [
    "df = bronze_dfs['crm_cust_info']\n",
    "\n",
    "# Trim columns\n",
    "for col in ['cst_firstname', 'cst_lastname']:\n",
    "    df = df.withColumn(col, f.trim(f.col(col)))\n",
    "\n",
    "# Map marital status\n",
    "df = df.withColumn(\n",
    "    'cst_marital_status',\n",
    "    f.when(f.upper(f.trim(f.col('cst_marital_status'))) == 'S', 'Single')\n",
    "     .when(f.upper(f.trim(f.col('cst_marital_status'))) == 'M', 'Married')\n",
    "     .otherwise('n/a')\n",
    ")\n",
    "\n",
    "# Map gender\n",
    "df = df.withColumn(\n",
    "    'cst_gndr',\n",
    "    f.when(f.upper(f.trim(f.col('cst_gndr'))) == 'M', 'Male')\n",
    "     .when(f.upper(f.trim(f.col('cst_gndr'))) == 'F', 'Female')\n",
    "     .otherwise('n/a')\n",
    ")\n",
    "\n",
    "# Deduplication\n",
    "window_spec = Window.partitionBy('cst_id').orderBy(f.col('cst_create_date').desc())\n",
    "df = df.withColumn('row_num', f.row_number().over(window_spec)).filter(f.col('row_num') == 1).drop('row_num')"
   ]
  },
  {
   "cell_type": "code",
   "execution_count": 0,
   "metadata": {
    "application/vnd.databricks.v1+cell": {
     "cellMetadata": {
      "byteLimit": 2048000,
      "rowLimit": 10000
     },
     "inputWidgets": {},
     "nuid": "54c91fd5-aad7-4b69-83e2-4b0f5bf68b63",
     "showTitle": false,
     "tableResultSettingsMap": {},
     "title": ""
    }
   },
   "outputs": [],
   "source": [
    "# Add to silver sources\n",
    "silver_sources.append({\n",
    "        'name': 'crm_cust_info',\n",
    "        'path': f\"{silver_path}crm_cust_info\",\n",
    "        'df': df\n",
    "    })"
   ]
  },
  {
   "cell_type": "markdown",
   "metadata": {
    "application/vnd.databricks.v1+cell": {
     "cellMetadata": {
      "byteLimit": 2048000,
      "rowLimit": 10000
     },
     "inputWidgets": {},
     "nuid": "e44a6d42-bbe3-4d66-abd8-5515a16c0279",
     "showTitle": false,
     "tableResultSettingsMap": {},
     "title": ""
    }
   },
   "source": [
    "Transformation `crm_prd_info`"
   ]
  },
  {
   "cell_type": "code",
   "execution_count": 0,
   "metadata": {
    "application/vnd.databricks.v1+cell": {
     "cellMetadata": {
      "byteLimit": 2048000,
      "rowLimit": 10000
     },
     "inputWidgets": {},
     "nuid": "d8fa4808-eb3f-40fe-85f2-562f0fcb6027",
     "showTitle": false,
     "tableResultSettingsMap": {},
     "title": ""
    }
   },
   "outputs": [],
   "source": [
    "df = bronze_dfs['crm_prd_info']\n",
    "\n",
    "# Cast the timestamp\n",
    "df = df.withColumn('prd_start_dt', f.to_date('prd_start_dt'))\n",
    "df = df.withColumn('prd_end_dt', f.to_date('prd_end_dt'))\n",
    "\n",
    "# Extract cat_id and prd_key\n",
    "df = df.withColumn('cat_id', f.regexp_replace(f.substring('prd_key', 1, 5), '-', '_'))\n",
    "df = df.withColumn('prd_key', f.substring('prd_key', 7, f.length('prd_key')))\n",
    "\n",
    "# # Null cost to 0\n",
    "df = df.withColumn('prd_cost', f.coalesce(f.col('prd_cost'), f.lit(0)))\n",
    "\n",
    "# Map Product line codes to descriptive values\n",
    "df = df.withColumn(\n",
    "    'prd_line',\n",
    "    f.when(f.upper(f.trim(f.col('prd_line'))) == 'M', 'Mountain')\n",
    "     .when(f.upper(f.trim(f.col('prd_line'))) == 'R', 'Road')\n",
    "     .when(f.upper(f.trim(f.col('prd_line'))) == 'S', 'Other Sales')\n",
    "     .when(f.upper(f.trim(f.col('prd_line'))) == 'T', 'Touring')\n",
    "     .otherwise('n/a')\n",
    ")\n",
    "\n",
    "# LEAD window for prd_end_dt\n",
    "window_spec = Window.partitionBy('prd_key').orderBy('prd_start_dt')\n",
    "df = df.withColumn(\n",
    "    'prd_end_dt',\n",
    "    f.lead('prd_start_dt').over(window_spec) - f.expr('INTERVAL 1 DAY')\n",
    ")\n",
    "\n",
    "df = df.select(['prd_id', 'cat_id', 'prd_key', 'prd_nm', 'prd_cost', 'prd_line', 'prd_start_dt', 'prd_end_dt'])\n",
    "\n",
    "# Add to silver sources\n",
    "silver_sources.append(\n",
    "    {\n",
    "        'name': 'crm_prd_info',\n",
    "        'path': f\"{silver_path}crm_prd_info\",\n",
    "        'df': df\n",
    "    }\n",
    ")"
   ]
  },
  {
   "cell_type": "markdown",
   "metadata": {
    "application/vnd.databricks.v1+cell": {
     "cellMetadata": {
      "byteLimit": 2048000,
      "rowLimit": 10000
     },
     "inputWidgets": {},
     "nuid": "e722e07e-eb6f-49e8-ba48-346f82ad215f",
     "showTitle": false,
     "tableResultSettingsMap": {},
     "title": ""
    }
   },
   "source": [
    "Transforation `crm_sales_details`"
   ]
  },
  {
   "cell_type": "code",
   "execution_count": 0,
   "metadata": {
    "application/vnd.databricks.v1+cell": {
     "cellMetadata": {
      "byteLimit": 2048000,
      "rowLimit": 10000
     },
     "inputWidgets": {},
     "nuid": "cdc5b77d-6663-41b0-9d7b-75729d62a568",
     "showTitle": false,
     "tableResultSettingsMap": {},
     "title": ""
    }
   },
   "outputs": [],
   "source": [
    "df = bronze_dfs['crm_sales_details']\n",
    "\n",
    "# Valid date\n",
    "def valid_date(col):\n",
    "    return f.when((f.col(col) > 0) & (f.length(f.col(col).cast('string')) == 8),\n",
    "                  f.to_date(f.col(col).cast('string'), 'yyyyMMdd')).otherwise(None)\n",
    "    \n",
    "# Cast the timestamp\n",
    "df = df.withColumn(\"sls_order_dt\", valid_date(\"sls_order_dt\"))\n",
    "df = df.withColumn(\"sls_ship_dt\", valid_date(\"sls_ship_dt\"))\n",
    "df = df.withColumn(\"sls_due_dt\", valid_date(\"sls_due_dt\"))\n",
    "\n",
    "# Recalculated sales\n",
    "df = df.withColumn(\n",
    "    'sls_sales',\n",
    "    f.when(\n",
    "        (f.col('sls_sales').isNull()) | (f.col('sls_sales') <= 0) |\n",
    "        (f.col('sls_sales') != f.col('sls_quantity') * f.abs(f.col('sls_price'))),\n",
    "        f.col('sls_quantity') * f.abs(f.col('sls_price'))\n",
    "    ).otherwise(f.col('sls_sales'))\n",
    ")\n",
    "\n",
    "# Drive price if invalid\n",
    "df = df.withColumn(\n",
    "    \"sls_price\",\n",
    "    f.when(\n",
    "        (f.col(\"sls_price\").isNull()) | (f.col(\"sls_price\") <= 0),\n",
    "        f.abs(f.col(\"sls_sales\") / f.when(f.col(\"sls_quantity\") != 0, f.col(\"sls_quantity\")).otherwise(1))\n",
    "    ).otherwise(f.col(\"sls_price\"))\n",
    ")\n",
    "\n",
    "# Add to silver sources\n",
    "silver_sources.append(\n",
    "    {\n",
    "        'name': 'crm_sales_details',\n",
    "        'path': f\"{silver_path}crm_sales_details\",\n",
    "        'df': df\n",
    "    }\n",
    ")"
   ]
  },
  {
   "cell_type": "markdown",
   "metadata": {
    "application/vnd.databricks.v1+cell": {
     "cellMetadata": {
      "byteLimit": 2048000,
      "rowLimit": 10000
     },
     "inputWidgets": {},
     "nuid": "e33c8ca0-6af9-4981-bed8-c376f613f913",
     "showTitle": false,
     "tableResultSettingsMap": {},
     "title": ""
    }
   },
   "source": [
    "Tansformation `erp_cust_az12`"
   ]
  },
  {
   "cell_type": "code",
   "execution_count": 0,
   "metadata": {
    "application/vnd.databricks.v1+cell": {
     "cellMetadata": {
      "byteLimit": 2048000,
      "rowLimit": 10000
     },
     "inputWidgets": {},
     "nuid": "0f0e82c5-641f-4d46-90db-a3744e534cc7",
     "showTitle": false,
     "tableResultSettingsMap": {},
     "title": ""
    }
   },
   "outputs": [],
   "source": [
    "df = bronze_dfs['erp_cust_az12']\n",
    "\n",
    "# Remove 'NAS' prefix\n",
    "df = df.withColumn(\n",
    "    \"cid\",\n",
    "    f.when(f.col(\"cid\").startswith(\"NAS\"), f.expr(\"substring(cid, 4)\")).otherwise(f.col(\"cid\"))\n",
    ")\n",
    "\n",
    "# Future birthdate → NULL\n",
    "df = df.withColumn(\n",
    "    \"bdate\",\n",
    "    f.when(f.col(\"bdate\") > f.current_date(), None).otherwise(f.col(\"bdate\"))\n",
    ")\n",
    "\n",
    "# Normalize gender\n",
    "df = df.withColumn(\n",
    "    \"gen\",\n",
    "    f.when(f.upper(f.trim(f.col(\"gen\"))).isin(\"F\", \"FEMALE\"), \"Female\")\n",
    "     .when(f.upper(f.trim(f.col(\"gen\"))).isin(\"M\", \"MALE\"), \"Male\")\n",
    "     .otherwise(\"n/a\")\n",
    ")\n",
    "\n",
    "silver_sources.append({\n",
    "    \"name\": \"erp_cust_az12\",\n",
    "    \"path\": f\"{silver_path}erp_cust_az12\",\n",
    "    \"df\": df\n",
    "})"
   ]
  },
  {
   "cell_type": "markdown",
   "metadata": {
    "application/vnd.databricks.v1+cell": {
     "cellMetadata": {
      "byteLimit": 2048000,
      "rowLimit": 10000
     },
     "inputWidgets": {},
     "nuid": "c32c938f-f307-4b76-853f-52b9b2a786c7",
     "showTitle": false,
     "tableResultSettingsMap": {},
     "title": ""
    }
   },
   "source": [
    "Transformation `erp_loc_a101`"
   ]
  },
  {
   "cell_type": "code",
   "execution_count": 0,
   "metadata": {
    "application/vnd.databricks.v1+cell": {
     "cellMetadata": {
      "byteLimit": 2048000,
      "rowLimit": 10000
     },
     "inputWidgets": {},
     "nuid": "efd12f08-fdda-4707-b9e9-3fb1043e1e30",
     "showTitle": false,
     "tableResultSettingsMap": {},
     "title": ""
    }
   },
   "outputs": [],
   "source": [
    "df = bronze_dfs['erp_loc_a101']\n",
    "\n",
    "# Remove '-' in cid\n",
    "df = df.withColumn(\"cid\", f.regexp_replace(\"cid\", \"-\", \"\"))\n",
    "\n",
    "# Normalize country\n",
    "df = df.withColumn(\n",
    "    \"cntry\",\n",
    "    f.when(f.trim(f.col(\"cntry\")) == \"DE\", \"Germany\")\n",
    "     .when(f.trim(f.col(\"cntry\")).isin(\"US\", \"USA\"), \"United States\")\n",
    "     .when((f.col(\"cntry\").isNull()) | (f.trim(f.col(\"cntry\")) == \"\"), \"n/a\")\n",
    "     .otherwise(f.trim(f.col(\"cntry\")))\n",
    ")\n",
    "\n",
    "silver_sources.append({\n",
    "    \"name\": \"erp_loc_a101\",\n",
    "    \"path\": f\"{silver_path}/erp_loc_a101\",\n",
    "    \"df\": df\n",
    "})"
   ]
  },
  {
   "cell_type": "markdown",
   "metadata": {
    "application/vnd.databricks.v1+cell": {
     "cellMetadata": {
      "byteLimit": 2048000,
      "rowLimit": 10000
     },
     "inputWidgets": {},
     "nuid": "8ef1cc4b-a1ff-4ea2-b62f-21336fd3e80e",
     "showTitle": false,
     "tableResultSettingsMap": {},
     "title": ""
    }
   },
   "source": [
    "Tansformation `erp_px_cat_g1v2`"
   ]
  },
  {
   "cell_type": "code",
   "execution_count": 0,
   "metadata": {
    "application/vnd.databricks.v1+cell": {
     "cellMetadata": {
      "byteLimit": 2048000,
      "rowLimit": 10000
     },
     "inputWidgets": {},
     "nuid": "26c90987-f59f-4884-b564-049bbb32f85c",
     "showTitle": false,
     "tableResultSettingsMap": {},
     "title": ""
    }
   },
   "outputs": [],
   "source": [
    "df = bronze_dfs['erp_px_cat_g1v2']\n",
    "\n",
    "silver_sources.append({\n",
    "    \"name\": \"erp_px_cat_g1v2\",\n",
    "    \"path\": f\"{silver_path}/erp_px_cat_g1v2\",\n",
    "    \"df\": df\n",
    "})"
   ]
  },
  {
   "cell_type": "code",
   "execution_count": 0,
   "metadata": {
    "application/vnd.databricks.v1+cell": {
     "cellMetadata": {
      "byteLimit": 2048000,
      "rowLimit": 10000
     },
     "inputWidgets": {},
     "nuid": "b07c39de-39bd-4d2f-93c0-c72a976397f7",
     "showTitle": false,
     "tableResultSettingsMap": {},
     "title": ""
    }
   },
   "outputs": [],
   "source": [
    "def load_to_silver_table(source):\n",
    "    try:\n",
    "        log(f\"START: Writing {source['name']} to {source['path']}\")\n",
    "        \n",
    "        source['df'].write.format('delta').mode('overwrite').option('overwriteSchema', 'true').save(source['path'])\n",
    "        # Basic check\n",
    "        record_count = source['df'].count()\n",
    "        log(f\"SUCCESS: Written {source['name']} with {record_count} records\")\n",
    "\n",
    "        return {\n",
    "            \"table_name\": source['name'],\n",
    "            \"status\": \"SUCCESS\",\n",
    "            \"records\": record_count,\n",
    "            \"error\": \"\",\n",
    "            \"loaded_at\": datetime.now().isoformat(),\n",
    "            \"target_path\": source['path']\n",
    "        }\n",
    "    except Exception as e:\n",
    "        log(f\"ERROR: {source['name']} - {e}\")\n",
    "        return {\n",
    "            \"table_name\": source['name'],\n",
    "            \"status\": \"FAILED\",\n",
    "            \"records\": 0,\n",
    "            \"error\": str(e),\n",
    "            \"loaded_at\": datetime.now().isoformat(),\n",
    "            \"target_path\": source['path']\n",
    "        }"
   ]
  },
  {
   "cell_type": "code",
   "execution_count": 0,
   "metadata": {
    "application/vnd.databricks.v1+cell": {
     "cellMetadata": {
      "byteLimit": 2048000,
      "rowLimit": 10000
     },
     "inputWidgets": {},
     "nuid": "4d60c970-d7bc-4cd1-aabe-2b3363582ca6",
     "showTitle": false,
     "tableResultSettingsMap": {},
     "title": ""
    }
   },
   "outputs": [],
   "source": [
    "# Define Audit Schema\n",
    "audit_schema = StructType([\n",
    "    StructField(\"table_name\", StringType(), True),\n",
    "    StructField(\"status\", StringType(), True),\n",
    "    StructField(\"records\", IntegerType(), True),\n",
    "    StructField(\"error\", StringType(), True),\n",
    "    StructField(\"loaded_at\", StringType(), True),\n",
    "    StructField(\"target_path\", StringType(), True)\n",
    "])"
   ]
  },
  {
   "cell_type": "code",
   "execution_count": 0,
   "metadata": {
    "application/vnd.databricks.v1+cell": {
     "cellMetadata": {
      "byteLimit": 2048000,
      "rowLimit": 10000
     },
     "inputWidgets": {},
     "nuid": "8bea8302-a0fe-4cdf-97e5-2eca4b5f60d7",
     "showTitle": false,
     "tableResultSettingsMap": {},
     "title": ""
    }
   },
   "outputs": [
    {
     "output_type": "stream",
     "name": "stdout",
     "output_type": "stream",
     "text": [
      "[2025-07-05T09:49:01.993689] START: Writing crm_cust_info to gs://my-bucket-deep/Medallion/silver/crm_cust_info\n[2025-07-05T09:49:08.826173] SUCCESS: Written crm_cust_info with 18485 records\n[2025-07-05T09:49:08.826427] START: Writing crm_prd_info to gs://my-bucket-deep/Medallion/silver/crm_prd_info\n[2025-07-05T09:49:15.363432] SUCCESS: Written crm_prd_info with 397 records\n[2025-07-05T09:49:15.363620] START: Writing crm_sales_details to gs://my-bucket-deep/Medallion/silver/crm_sales_details\n[2025-07-05T09:49:23.084628] SUCCESS: Written crm_sales_details with 60398 records\n[2025-07-05T09:49:23.084808] START: Writing erp_cust_az12 to gs://my-bucket-deep/Medallion/silver/erp_cust_az12\n[2025-07-05T09:49:30.615054] SUCCESS: Written erp_cust_az12 with 18484 records\n[2025-07-05T09:49:30.615246] START: Writing erp_loc_a101 to gs://my-bucket-deep/Medallion/silver//erp_loc_a101\n[2025-07-05T09:49:37.422917] SUCCESS: Written erp_loc_a101 with 18484 records\n[2025-07-05T09:49:37.423104] START: Writing erp_px_cat_g1v2 to gs://my-bucket-deep/Medallion/silver//erp_px_cat_g1v2\n[2025-07-05T09:49:45.673201] SUCCESS: Written erp_px_cat_g1v2 with 37 records\n[2025-07-05T09:49:50.421510] SUCCESS: Audit logs written to gs://my-bucket-deep/Medallion/silver/_silver_audit_logs\n"
     ]
    }
   ],
   "source": [
    "# Process all sources and collect audit records\n",
    "audit_records = []\n",
    "for source in silver_sources:\n",
    "    result = load_to_silver_table(source)\n",
    "    audit_records.append(result)\n",
    "\n",
    "audit_df = spark.createDataFrame(audit_records, schema=audit_schema)\n",
    "\n",
    "# Write audit logs\n",
    "audit_log_path = f\"{silver_path}_silver_audit_logs\"\n",
    "audit_df.write.format('delta').mode('append').save(audit_log_path)\n",
    "\n",
    "log(f\"SUCCESS: Audit logs written to {audit_log_path}\")"
   ]
  },
  {
   "cell_type": "code",
   "execution_count": 0,
   "metadata": {
    "application/vnd.databricks.v1+cell": {
     "cellMetadata": {
      "byteLimit": 2048000,
      "rowLimit": 10000
     },
     "inputWidgets": {},
     "nuid": "e5cd2567-3fa7-44c6-a4f5-20b1053759f1",
     "showTitle": false,
     "tableResultSettingsMap": {},
     "title": ""
    }
   },
   "outputs": [
    {
     "output_type": "display_data",
     "data": {
      "text/html": [
       "<style scoped>\n",
       "  .table-result-container {\n",
       "    max-height: 300px;\n",
       "    overflow: auto;\n",
       "  }\n",
       "  table, th, td {\n",
       "    border: 1px solid black;\n",
       "    border-collapse: collapse;\n",
       "  }\n",
       "  th, td {\n",
       "    padding: 5px;\n",
       "  }\n",
       "  th {\n",
       "    text-align: left;\n",
       "  }\n",
       "</style><div class='table-result-container'><table class='table-result'><thead style='background-color: white'><tr><th>table_name</th><th>status</th><th>records</th><th>error</th><th>loaded_at</th><th>target_path</th></tr></thead><tbody><tr><td>crm_cust_info</td><td>SUCCESS</td><td>18485</td><td></td><td>2025-07-05T09:49:08.826360</td><td>gs://my-bucket-deep/Medallion/silver/crm_cust_info</td></tr><tr><td>crm_prd_info</td><td>SUCCESS</td><td>397</td><td></td><td>2025-07-05T09:49:15.363567</td><td>gs://my-bucket-deep/Medallion/silver/crm_prd_info</td></tr><tr><td>crm_sales_details</td><td>SUCCESS</td><td>60398</td><td></td><td>2025-07-05T09:49:23.084762</td><td>gs://my-bucket-deep/Medallion/silver/crm_sales_details</td></tr><tr><td>erp_cust_az12</td><td>SUCCESS</td><td>18484</td><td></td><td>2025-07-05T09:49:30.615201</td><td>gs://my-bucket-deep/Medallion/silver/erp_cust_az12</td></tr><tr><td>erp_loc_a101</td><td>SUCCESS</td><td>18484</td><td></td><td>2025-07-05T09:49:37.423057</td><td>gs://my-bucket-deep/Medallion/silver//erp_loc_a101</td></tr><tr><td>erp_px_cat_g1v2</td><td>SUCCESS</td><td>37</td><td></td><td>2025-07-05T09:49:45.673350</td><td>gs://my-bucket-deep/Medallion/silver//erp_px_cat_g1v2</td></tr></tbody></table></div>"
      ]
     },
     "metadata": {
      "application/vnd.databricks.v1+output": {
       "addedWidgets": {},
       "aggData": [],
       "aggError": "",
       "aggOverflow": false,
       "aggSchema": [],
       "aggSeriesLimitReached": false,
       "aggType": "",
       "arguments": {},
       "columnCustomDisplayInfos": {},
       "data": [
        [
         "crm_cust_info",
         "SUCCESS",
         18485,
         "",
         "2025-07-05T09:49:08.826360",
         "gs://my-bucket-deep/Medallion/silver/crm_cust_info"
        ],
        [
         "crm_prd_info",
         "SUCCESS",
         397,
         "",
         "2025-07-05T09:49:15.363567",
         "gs://my-bucket-deep/Medallion/silver/crm_prd_info"
        ],
        [
         "crm_sales_details",
         "SUCCESS",
         60398,
         "",
         "2025-07-05T09:49:23.084762",
         "gs://my-bucket-deep/Medallion/silver/crm_sales_details"
        ],
        [
         "erp_cust_az12",
         "SUCCESS",
         18484,
         "",
         "2025-07-05T09:49:30.615201",
         "gs://my-bucket-deep/Medallion/silver/erp_cust_az12"
        ],
        [
         "erp_loc_a101",
         "SUCCESS",
         18484,
         "",
         "2025-07-05T09:49:37.423057",
         "gs://my-bucket-deep/Medallion/silver//erp_loc_a101"
        ],
        [
         "erp_px_cat_g1v2",
         "SUCCESS",
         37,
         "",
         "2025-07-05T09:49:45.673350",
         "gs://my-bucket-deep/Medallion/silver//erp_px_cat_g1v2"
        ]
       ],
       "datasetInfos": [],
       "dbfsResultPath": null,
       "isJsonSchema": true,
       "metadata": {},
       "overflow": false,
       "plotOptions": {
        "customPlotOptions": {},
        "displayType": "table",
        "pivotAggregation": null,
        "pivotColumns": null,
        "xColumns": null,
        "yColumns": null
       },
       "removedWidgets": [],
       "schema": [
        {
         "metadata": "{}",
         "name": "table_name",
         "type": "\"string\""
        },
        {
         "metadata": "{}",
         "name": "status",
         "type": "\"string\""
        },
        {
         "metadata": "{}",
         "name": "records",
         "type": "\"integer\""
        },
        {
         "metadata": "{}",
         "name": "error",
         "type": "\"string\""
        },
        {
         "metadata": "{}",
         "name": "loaded_at",
         "type": "\"string\""
        },
        {
         "metadata": "{}",
         "name": "target_path",
         "type": "\"string\""
        }
       ],
       "type": "table"
      }
     },
     "output_type": "display_data"
    }
   ],
   "source": [
    "audit_df.display()"
   ]
  }
 ],
 "metadata": {
  "application/vnd.databricks.v1+notebook": {
   "computePreferences": null,
   "dashboards": [],
   "environmentMetadata": {
    "base_environment": "",
    "environment_version": "2"
   },
   "inputWidgetPreferences": null,
   "language": "python",
   "notebookMetadata": {
    "pythonIndentUnit": 4
   },
   "notebookName": "Silver",
   "widgets": {}
  },
  "language_info": {
   "name": "python"
  }
 },
 "nbformat": 4,
 "nbformat_minor": 0
}