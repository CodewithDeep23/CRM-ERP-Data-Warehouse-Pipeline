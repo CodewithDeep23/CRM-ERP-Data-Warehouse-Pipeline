{
 "cells": [
  {
   "cell_type": "markdown",
   "metadata": {
    "application/vnd.databricks.v1+cell": {
     "cellMetadata": {},
     "inputWidgets": {},
     "nuid": "9f47e240-16fb-401c-b05b-cd5ef36f8205",
     "showTitle": false,
     "tableResultSettingsMap": {},
     "title": ""
    }
   },
   "source": [
    "### DATA QUALITY CHECKS – SILVER LAYER\n",
    "\n",
    "---\n",
    "\n",
    "#### Purpose\n",
    "This notebook validates the **integrity and quality** of data within the **Silver layer**.\n",
    "\n",
    "It ensures data is **clean, consistent, and ready** for downstream processing.\n",
    "\n",
    "---\n",
    "\n",
    "#### Key Checks Performed\n",
    "- Detection of **NULL** or **duplicate** primary keys\n",
    "- Identification of **unwanted spaces** in text fields\n",
    "- **Standardization** and **normalization** of categorical data\n",
    "- **Validation** of date fields for correctness and logical ordering\n",
    "- **Consistency checks** between related numerical fields (e.g., sales = quantity × price)\n",
    "\n",
    "---\n",
    "\n",
    "#### Usage Instructions\n",
    "- Execute this notebook **after loading data** into the Silver layer\n",
    "- **Review and address** any anomalies before progressing to the **Gold layer** or analytics\n"
   ]
  },
  {
   "cell_type": "code",
   "execution_count": 0,
   "metadata": {
    "application/vnd.databricks.v1+cell": {
     "cellMetadata": {
      "byteLimit": 2048000,
      "rowLimit": 10000
     },
     "inputWidgets": {},
     "nuid": "6438f7b6-2d55-4f04-9223-0a4baed14e5e",
     "showTitle": false,
     "tableResultSettingsMap": {},
     "title": ""
    }
   },
   "outputs": [],
   "source": [
    "from datetime import datetime\n",
    "from pyspark.sql.types import StructType, StructField, StringType, IntegerType, DateType, TimestampType\n",
    "from pyspark.sql.functions import to_date, to_timestamp"
   ]
  },
  {
   "cell_type": "code",
   "execution_count": 0,
   "metadata": {
    "application/vnd.databricks.v1+cell": {
     "cellMetadata": {
      "byteLimit": 2048000,
      "rowLimit": 10000
     },
     "inputWidgets": {},
     "nuid": "14efad80-5018-42b8-aee2-8b8b8bfd9fd8",
     "showTitle": false,
     "tableResultSettingsMap": {},
     "title": ""
    }
   },
   "outputs": [],
   "source": [
    "from pyspark.sql import functions as f\n",
    "from pyspark.sql.window import Window"
   ]
  },
  {
   "cell_type": "code",
   "execution_count": 0,
   "metadata": {
    "application/vnd.databricks.v1+cell": {
     "cellMetadata": {
      "byteLimit": 2048000,
      "rowLimit": 10000
     },
     "inputWidgets": {},
     "nuid": "bba9f69c-2ef9-460a-80fb-c5a049beb64c",
     "showTitle": false,
     "tableResultSettingsMap": {},
     "title": ""
    }
   },
   "outputs": [],
   "source": [
    "# path\n",
    "bronze_path = 'gs://my-bucket-deep/Medallion/bronze/'\n",
    "silver_path = 'gs://my-bucket-deep/Medallion/silver/'"
   ]
  },
  {
   "cell_type": "code",
   "execution_count": 0,
   "metadata": {
    "application/vnd.databricks.v1+cell": {
     "cellMetadata": {
      "byteLimit": 2048000,
      "rowLimit": 10000
     },
     "inputWidgets": {},
     "nuid": "617bcabe-df04-464d-ab17-eb71b3167355",
     "showTitle": false,
     "tableResultSettingsMap": {},
     "title": ""
    }
   },
   "outputs": [],
   "source": [
    "tables = [\n",
    "    \"crm_cust_info\",\n",
    "    \"crm_prd_info\",\n",
    "    \"crm_sales_details\",\n",
    "    \"erp_cust_az12\",\n",
    "    \"erp_loc_a101\",\n",
    "    \"erp_px_cat_g1v2\"\n",
    "]\n",
    "bronze_dfs = {\n",
    "    table: spark.read.format('delta').load(f'{bronze_path}{table}')\n",
    "    for table in tables\n",
    "}\n",
    "\n",
    "silver_dfs = {\n",
    "    table: spark.read.format('delta').load(f'{silver_path}{table}')\n",
    "    for table in tables\n",
    "}"
   ]
  },
  {
   "cell_type": "markdown",
   "metadata": {
    "application/vnd.databricks.v1+cell": {
     "cellMetadata": {},
     "inputWidgets": {},
     "nuid": "219fdec0-4cbb-4b93-8bc4-b7ec306faeae",
     "showTitle": false,
     "tableResultSettingsMap": {},
     "title": ""
    }
   },
   "source": [
    "#### Validation: `crm_cust_info`"
   ]
  },
  {
   "cell_type": "code",
   "execution_count": 0,
   "metadata": {
    "application/vnd.databricks.v1+cell": {
     "cellMetadata": {
      "byteLimit": 2048000,
      "rowLimit": 10000
     },
     "inputWidgets": {},
     "nuid": "d9ed019e-60f9-4887-9048-2fc48fbe981f",
     "showTitle": false,
     "tableResultSettingsMap": {},
     "title": ""
    }
   },
   "outputs": [
    {
     "output_type": "display_data",
     "data": {
      "text/html": [
       "<style scoped>\n",
       "  .table-result-container {\n",
       "    max-height: 300px;\n",
       "    overflow: auto;\n",
       "  }\n",
       "  table, th, td {\n",
       "    border: 1px solid black;\n",
       "    border-collapse: collapse;\n",
       "  }\n",
       "  th, td {\n",
       "    padding: 5px;\n",
       "  }\n",
       "  th {\n",
       "    text-align: left;\n",
       "  }\n",
       "</style><div class='table-result-container'><table class='table-result'><thead style='background-color: white'><tr><th>cst_id</th><th>count</th></tr></thead><tbody><tr><td>null</td><td>1</td></tr></tbody></table></div>"
      ]
     },
     "metadata": {
      "application/vnd.databricks.v1+output": {
       "addedWidgets": {},
       "aggData": [],
       "aggError": "",
       "aggOverflow": false,
       "aggSchema": [],
       "aggSeriesLimitReached": false,
       "aggType": "",
       "arguments": {},
       "columnCustomDisplayInfos": {},
       "data": [
        [
         null,
         1
        ]
       ],
       "datasetInfos": [],
       "dbfsResultPath": null,
       "isJsonSchema": true,
       "metadata": {},
       "overflow": false,
       "plotOptions": {
        "customPlotOptions": {},
        "displayType": "table",
        "pivotAggregation": null,
        "pivotColumns": null,
        "xColumns": null,
        "yColumns": null
       },
       "removedWidgets": [],
       "schema": [
        {
         "metadata": "{}",
         "name": "cst_id",
         "type": "\"integer\""
        },
        {
         "metadata": "{}",
         "name": "count",
         "type": "\"long\""
        }
       ],
       "type": "table"
      }
     },
     "output_type": "display_data"
    }
   ],
   "source": [
    "# Identify NULLs or duplicate customer IDs (Primary Key)\n",
    "silver_dfs['crm_cust_info'].groupBy('cst_id') \\\n",
    "                           .count().filter((f.col('count') > 1) | (f.col('cst_id').isNull())) \\\n",
    "                           .display()"
   ]
  },
  {
   "cell_type": "code",
   "execution_count": 0,
   "metadata": {
    "application/vnd.databricks.v1+cell": {
     "cellMetadata": {
      "byteLimit": 2048000,
      "rowLimit": 10000
     },
     "inputWidgets": {},
     "nuid": "a6933892-caa7-4fdf-b5bd-106b501da806",
     "showTitle": false,
     "tableResultSettingsMap": {},
     "title": ""
    }
   },
   "outputs": [
    {
     "output_type": "display_data",
     "data": {
      "text/html": [
       "<style scoped>\n",
       "  .table-result-container {\n",
       "    max-height: 300px;\n",
       "    overflow: auto;\n",
       "  }\n",
       "  table, th, td {\n",
       "    border: 1px solid black;\n",
       "    border-collapse: collapse;\n",
       "  }\n",
       "  th, td {\n",
       "    padding: 5px;\n",
       "  }\n",
       "  th {\n",
       "    text-align: left;\n",
       "  }\n",
       "</style><div class='table-result-container'><table class='table-result'><thead style='background-color: white'><tr><th>cst_firstname</th><th>cst_lastname</th></tr></thead><tbody></tbody></table></div>"
      ]
     },
     "metadata": {
      "application/vnd.databricks.v1+output": {
       "addedWidgets": {},
       "aggData": [],
       "aggError": "",
       "aggOverflow": false,
       "aggSchema": [],
       "aggSeriesLimitReached": false,
       "aggType": "",
       "arguments": {},
       "columnCustomDisplayInfos": {},
       "data": [],
       "datasetInfos": [],
       "dbfsResultPath": null,
       "isJsonSchema": true,
       "metadata": {},
       "overflow": false,
       "plotOptions": {
        "customPlotOptions": {},
        "displayType": "table",
        "pivotAggregation": null,
        "pivotColumns": null,
        "xColumns": null,
        "yColumns": null
       },
       "removedWidgets": [],
       "schema": [
        {
         "metadata": "{}",
         "name": "cst_firstname",
         "type": "\"string\""
        },
        {
         "metadata": "{}",
         "name": "cst_lastname",
         "type": "\"string\""
        }
       ],
       "type": "table"
      }
     },
     "output_type": "display_data"
    }
   ],
   "source": [
    "# Detect leading/trailing spaces in customer first names & lastname\n",
    "silver_dfs['crm_cust_info'].filter(f.trim(f.col('cst_firstname')) != f.col('cst_firstname')).select(['cst_firstname', 'cst_lastname']).display()"
   ]
  },
  {
   "cell_type": "code",
   "execution_count": 0,
   "metadata": {
    "application/vnd.databricks.v1+cell": {
     "cellMetadata": {
      "byteLimit": 2048000,
      "rowLimit": 10000
     },
     "inputWidgets": {},
     "nuid": "30b6ff56-fd8e-481d-9436-58fd815b771a",
     "showTitle": false,
     "tableResultSettingsMap": {},
     "title": ""
    }
   },
   "outputs": [
    {
     "output_type": "stream",
     "name": "stdout",
     "output_type": "stream",
     "text": [
      "+------------------+\n|cst_marital_status|\n+------------------+\n|           Married|\n|               n/a|\n|            Single|\n+------------------+\n\n+--------+\n|cst_gndr|\n+--------+\n|  Female|\n|     n/a|\n|    Male|\n+--------+\n\n"
     ]
    }
   ],
   "source": [
    "# Data Standardization & Consistency (cst_gndr and cst_marital_status)\n",
    "silver_dfs['crm_cust_info'].select('cst_marital_status').distinct().show()\n",
    "silver_dfs['crm_cust_info'].select('cst_gndr').distinct().show()"
   ]
  },
  {
   "cell_type": "markdown",
   "metadata": {
    "application/vnd.databricks.v1+cell": {
     "cellMetadata": {},
     "inputWidgets": {},
     "nuid": "31244f11-bb31-42b1-8d9c-8e479c5fb99e",
     "showTitle": false,
     "tableResultSettingsMap": {},
     "title": ""
    }
   },
   "source": [
    "#### Validation: `crm_prd_info`"
   ]
  },
  {
   "cell_type": "code",
   "execution_count": 0,
   "metadata": {
    "application/vnd.databricks.v1+cell": {
     "cellMetadata": {
      "byteLimit": 2048000,
      "rowLimit": 10000
     },
     "inputWidgets": {},
     "nuid": "6ec2a693-d392-4e24-8770-a45c49bb377f",
     "showTitle": false,
     "tableResultSettingsMap": {},
     "title": ""
    }
   },
   "outputs": [
    {
     "output_type": "stream",
     "name": "stdout",
     "output_type": "stream",
     "text": [
      "+------+-----+\n|prd_id|count|\n+------+-----+\n+------+-----+\n\n"
     ]
    }
   ],
   "source": [
    "# Identify NULLs or duplicate in product IDs\n",
    "silver_dfs['crm_prd_info'].groupBy('prd_id') \\\n",
    "                           .count().filter((f.col('count') > 1) | (f.col('prd_id').isNull())) \\\n",
    "                           .show()"
   ]
  },
  {
   "cell_type": "code",
   "execution_count": 0,
   "metadata": {
    "application/vnd.databricks.v1+cell": {
     "cellMetadata": {
      "byteLimit": 2048000,
      "rowLimit": 10000
     },
     "inputWidgets": {},
     "nuid": "9b1e88c6-5335-4aec-b673-711a1d9ceda9",
     "showTitle": false,
     "tableResultSettingsMap": {},
     "title": ""
    }
   },
   "outputs": [
    {
     "output_type": "stream",
     "name": "stdout",
     "output_type": "stream",
     "text": [
      "+------+\n|prd_nm|\n+------+\n+------+\n\n"
     ]
    }
   ],
   "source": [
    "# Detect unwanted spaces in product names\n",
    "silver_dfs['crm_prd_info'].filter(f.trim(f.col('prd_nm')) != f.col('prd_nm')).select(['prd_nm']).show()"
   ]
  },
  {
   "cell_type": "code",
   "execution_count": 0,
   "metadata": {
    "application/vnd.databricks.v1+cell": {
     "cellMetadata": {
      "byteLimit": 2048000,
      "rowLimit": 10000
     },
     "inputWidgets": {},
     "nuid": "a579ce22-c568-405b-806a-7cb21287de99",
     "showTitle": false,
     "tableResultSettingsMap": {},
     "title": ""
    }
   },
   "outputs": [
    {
     "output_type": "stream",
     "name": "stdout",
     "output_type": "stream",
     "text": [
      "+--------+\n|prd_cost|\n+--------+\n+--------+\n\n"
     ]
    }
   ],
   "source": [
    "# Identify NULLs or negative values in product cost\n",
    "silver_dfs['crm_prd_info'].filter((f.col('prd_cost') < 0) | f.col('prd_cost').isNull()).select('prd_cost').show()"
   ]
  },
  {
   "cell_type": "code",
   "execution_count": 0,
   "metadata": {
    "application/vnd.databricks.v1+cell": {
     "cellMetadata": {
      "byteLimit": 2048000,
      "rowLimit": 10000
     },
     "inputWidgets": {},
     "nuid": "d583c5d2-be88-4944-bb7b-f1993c9d197a",
     "showTitle": false,
     "tableResultSettingsMap": {},
     "title": ""
    }
   },
   "outputs": [
    {
     "output_type": "stream",
     "name": "stdout",
     "output_type": "stream",
     "text": [
      "+-----------+\n|   prd_line|\n+-----------+\n|   Mountain|\n|       Road|\n|        n/a|\n|Other Sales|\n|    Touring|\n+-----------+\n\n"
     ]
    }
   ],
   "source": [
    "# List distinct product lines for normalization\n",
    "silver_dfs['crm_prd_info'].select('prd_line').distinct().show()"
   ]
  },
  {
   "cell_type": "code",
   "execution_count": 0,
   "metadata": {
    "application/vnd.databricks.v1+cell": {
     "cellMetadata": {
      "byteLimit": 2048000,
      "rowLimit": 10000
     },
     "inputWidgets": {},
     "nuid": "49e97b34-5d05-4233-bc9c-70822d58249d",
     "showTitle": false,
     "tableResultSettingsMap": {},
     "title": ""
    }
   },
   "outputs": [
    {
     "output_type": "stream",
     "name": "stdout",
     "output_type": "stream",
     "text": [
      "+------------+----------+\n|prd_start_dt|prd_end_dt|\n+------------+----------+\n+------------+----------+\n\n"
     ]
    }
   ],
   "source": [
    "# Find records with invalid product date ranges (start_date > end_date)\n",
    "silver_dfs['crm_prd_info'].filter(f.col('prd_end_dt') < f.col('prd_start_dt')).select(['prd_start_dt', 'prd_end_dt']).show()"
   ]
  },
  {
   "cell_type": "markdown",
   "metadata": {
    "application/vnd.databricks.v1+cell": {
     "cellMetadata": {},
     "inputWidgets": {},
     "nuid": "2329ff6f-830e-4b80-a528-8b8de2baeaa9",
     "showTitle": false,
     "tableResultSettingsMap": {},
     "title": ""
    }
   },
   "source": [
    "#### Validation `crm_sales_details`"
   ]
  },
  {
   "cell_type": "code",
   "execution_count": 0,
   "metadata": {
    "application/vnd.databricks.v1+cell": {
     "cellMetadata": {
      "byteLimit": 2048000,
      "rowLimit": 10000
     },
     "inputWidgets": {},
     "nuid": "5c533f43-6596-4136-97cb-16b1b2e39d2e",
     "showTitle": false,
     "tableResultSettingsMap": {},
     "title": ""
    }
   },
   "outputs": [
    {
     "output_type": "stream",
     "name": "stdout",
     "output_type": "stream",
     "text": [
      "+-----------+-----------+-----------+------------+-----------+----------+---------+------------+---------+\n|sls_ord_num|sls_prd_key|sls_cust_id|sls_order_dt|sls_ship_dt|sls_due_dt|sls_sales|sls_quantity|sls_price|\n+-----------+-----------+-----------+------------+-----------+----------+---------+------------+---------+\n+-----------+-----------+-----------+------------+-----------+----------+---------+------------+---------+\n\n"
     ]
    }
   ],
   "source": [
    "# Check for invalid due dates (format or out-of-range)\n",
    "silver_dfs['crm_sales_details'].filter((f.col('sls_due_dt').isNull()) | ((f.length(f.col('sls_due_dt').cast('string')) == 8))).show()\n",
    "\n",
    "# Check for other sls_order_dt, sls_ship_dt"
   ]
  },
  {
   "cell_type": "code",
   "execution_count": 0,
   "metadata": {
    "application/vnd.databricks.v1+cell": {
     "cellMetadata": {
      "byteLimit": 2048000,
      "rowLimit": 10000
     },
     "inputWidgets": {},
     "nuid": "7744f767-d498-4d2c-bc5d-c4f80b0710ac",
     "showTitle": false,
     "tableResultSettingsMap": {},
     "title": ""
    }
   },
   "outputs": [
    {
     "output_type": "stream",
     "name": "stdout",
     "output_type": "stream",
     "text": [
      "+------------+-----------+----------+\n|sls_order_dt|sls_ship_dt|sls_due_dt|\n+------------+-----------+----------+\n+------------+-----------+----------+\n\n"
     ]
    }
   ],
   "source": [
    "# Validate date consistency: (Order Date > Shipping/Due Dates)\n",
    "silver_dfs['crm_sales_details'].filter((f.col('sls_ship_dt') > f.col('sls_due_dt')) | (f.col('sls_order_dt') > f.col('sls_ship_dt'))).select(['sls_order_dt', 'sls_ship_dt', 'sls_due_dt']).show()"
   ]
  },
  {
   "cell_type": "code",
   "execution_count": 0,
   "metadata": {
    "application/vnd.databricks.v1+cell": {
     "cellMetadata": {
      "byteLimit": 2048000,
      "rowLimit": 10000
     },
     "inputWidgets": {},
     "nuid": "d11ad426-9938-4868-bcf7-fa30c6f9d47f",
     "showTitle": false,
     "tableResultSettingsMap": {},
     "title": ""
    }
   },
   "outputs": [
    {
     "output_type": "stream",
     "name": "stdout",
     "output_type": "stream",
     "text": [
      "+---------+------------+---------+\n|sls_sales|sls_quantity|sls_price|\n+---------+------------+---------+\n+---------+------------+---------+\n\n"
     ]
    }
   ],
   "source": [
    "# /*\n",
    "# Business Rules:\n",
    "# - sls_sales = sls_quantity * sls_price\n",
    "# - Negative, zero, or NULL values are not allowed\n",
    "# */\n",
    "\n",
    "silver_dfs['crm_sales_details'].filter(\n",
    "    (f.col('sls_sales') != f.col('sls_quantity') * f.col('sls_price')) |\n",
    "    (f.col('sls_sales') <= 0) |\n",
    "    (f.col('sls_quantity') <= 0) |\n",
    "    (f.col('sls_price') <= 0) |\n",
    "    (f.col('sls_sales').isNull()) |\n",
    "    (f.col('sls_quantity').isNull()) |\n",
    "    (f.col('sls_price').isNull())\n",
    ").select(['sls_sales', 'sls_quantity', 'sls_price']).show()\n",
    "\n",
    "# Note: Data issues exist in sales and price fields\n",
    "# Fix Option 1: Clean data at the source system level\n",
    "# Fix Option 2: Handle errors in the data warehouse logic"
   ]
  },
  {
   "cell_type": "markdown",
   "metadata": {
    "application/vnd.databricks.v1+cell": {
     "cellMetadata": {},
     "inputWidgets": {},
     "nuid": "1503aa46-1774-4b28-a243-7c9e2196150f",
     "showTitle": false,
     "tableResultSettingsMap": {},
     "title": ""
    }
   },
   "source": [
    "#### Validation `erp_cust_az12`"
   ]
  },
  {
   "cell_type": "code",
   "execution_count": 0,
   "metadata": {
    "application/vnd.databricks.v1+cell": {
     "cellMetadata": {
      "byteLimit": 2048000,
      "rowLimit": 10000
     },
     "inputWidgets": {},
     "nuid": "f6276859-f8b0-48e8-afdc-85f07ff073e1",
     "showTitle": false,
     "tableResultSettingsMap": {},
     "title": ""
    }
   },
   "outputs": [
    {
     "output_type": "stream",
     "name": "stdout",
     "output_type": "stream",
     "text": [
      "+-----+\n|bdate|\n+-----+\n+-----+\n\n"
     ]
    }
   ],
   "source": [
    "# Detect unrealistic birthdate values\n",
    "silver_dfs['erp_cust_az12'].filter((f.col('bdate') < '1915-01-01') | (f.col('bdate') > f.current_date())).select('bdate').show()"
   ]
  },
  {
   "cell_type": "code",
   "execution_count": 0,
   "metadata": {
    "application/vnd.databricks.v1+cell": {
     "cellMetadata": {
      "byteLimit": 2048000,
      "rowLimit": 10000
     },
     "inputWidgets": {},
     "nuid": "daa72d31-4842-4b92-8511-f2654551729f",
     "showTitle": false,
     "tableResultSettingsMap": {},
     "title": ""
    }
   },
   "outputs": [
    {
     "output_type": "stream",
     "name": "stdout",
     "output_type": "stream",
     "text": [
      "+------+\n|   gen|\n+------+\n|Female|\n|   n/a|\n|  Male|\n+------+\n\n"
     ]
    }
   ],
   "source": [
    "# Data Standardization & Consistency\n",
    "silver_dfs['erp_cust_az12'].select('gen').distinct().show()"
   ]
  },
  {
   "cell_type": "markdown",
   "metadata": {
    "application/vnd.databricks.v1+cell": {
     "cellMetadata": {},
     "inputWidgets": {},
     "nuid": "408f1797-b372-4243-a60d-ef543d8c11c5",
     "showTitle": false,
     "tableResultSettingsMap": {},
     "title": ""
    }
   },
   "source": [
    "#### Validation `erp_loc_a101`"
   ]
  },
  {
   "cell_type": "code",
   "execution_count": 0,
   "metadata": {
    "application/vnd.databricks.v1+cell": {
     "cellMetadata": {
      "byteLimit": 2048000,
      "rowLimit": 10000
     },
     "inputWidgets": {},
     "nuid": "68d71225-10bf-4b5b-8b2b-a917f2c580f1",
     "showTitle": false,
     "tableResultSettingsMap": {},
     "title": ""
    }
   },
   "outputs": [
    {
     "output_type": "stream",
     "name": "stdout",
     "output_type": "stream",
     "text": [
      "+--------------+\n|         cntry|\n+--------------+\n|       Germany|\n|        France|\n| United States|\n|           n/a|\n|        Canada|\n|     Australia|\n|United Kingdom|\n+--------------+\n\n"
     ]
    }
   ],
   "source": [
    "# Data Standardization & Consistency\n",
    "silver_dfs['erp_loc_a101'].select('cntry').distinct().show()"
   ]
  },
  {
   "cell_type": "markdown",
   "metadata": {
    "application/vnd.databricks.v1+cell": {
     "cellMetadata": {},
     "inputWidgets": {},
     "nuid": "19f71bc8-8b6d-4e5e-99b7-60a7164ced49",
     "showTitle": false,
     "tableResultSettingsMap": {},
     "title": ""
    }
   },
   "source": [
    "#### Validation `erp_px_cat_g1v2`"
   ]
  },
  {
   "cell_type": "code",
   "execution_count": 0,
   "metadata": {
    "application/vnd.databricks.v1+cell": {
     "cellMetadata": {
      "byteLimit": 2048000,
      "rowLimit": 10000
     },
     "inputWidgets": {},
     "nuid": "4776253c-a362-4a98-9f08-c4c48b43a12f",
     "showTitle": false,
     "tableResultSettingsMap": {},
     "title": ""
    }
   },
   "outputs": [
    {
     "output_type": "stream",
     "name": "stdout",
     "output_type": "stream",
     "text": [
      "+---+---+------+-----------+\n| id|cat|subcat|maintenance|\n+---+---+------+-----------+\n+---+---+------+-----------+\n\n"
     ]
    }
   ],
   "source": [
    "# Identify unwanted spaces in category fields\n",
    "silver_dfs['erp_px_cat_g1v2'].filter(\n",
    "    (f.col('cat') != f.trim(f.col('cat'))) |\n",
    "    (f.col('subcat') != f.trim(f.col('subcat'))) |\n",
    "    (f.col('maintenance') != f.trim(f.col('maintenance')))\n",
    ").show()"
   ]
  },
  {
   "cell_type": "code",
   "execution_count": 0,
   "metadata": {
    "application/vnd.databricks.v1+cell": {
     "cellMetadata": {
      "byteLimit": 2048000,
      "rowLimit": 10000
     },
     "inputWidgets": {},
     "nuid": "002ca7bd-b1b1-476f-b97b-a8d4570f7211",
     "showTitle": false,
     "tableResultSettingsMap": {},
     "title": ""
    }
   },
   "outputs": [
    {
     "output_type": "stream",
     "name": "stdout",
     "output_type": "stream",
     "text": [
      "+-----------+\n|maintenance|\n+-----------+\n|         No|\n|        Yes|\n+-----------+\n\n"
     ]
    }
   ],
   "source": [
    "# Data Standardization & Consistency\n",
    "silver_dfs['erp_px_cat_g1v2'].select('maintenance').distinct().show()"
   ]
  }
 ],
 "metadata": {
  "application/vnd.databricks.v1+notebook": {
   "computePreferences": null,
   "dashboards": [],
   "environmentMetadata": {
    "base_environment": "",
    "environment_version": "2"
   },
   "inputWidgetPreferences": null,
   "language": "python",
   "notebookMetadata": {
    "pythonIndentUnit": 4
   },
   "notebookName": "quality_check_silver",
   "widgets": {}
  },
  "language_info": {
   "name": "python"
  }
 },
 "nbformat": 4,
 "nbformat_minor": 0
}